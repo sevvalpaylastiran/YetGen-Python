{
 "cells": [
  {
   "cell_type": "markdown",
   "metadata": {
    "id": "Rm1DKmXZM-Ja"
   },
   "source": [
    "# Problem 1\n",
    "\n",
    "Fizikte, bir nesnenin sabit ivmeyle hareket ederken son hızını \n",
    "(veya hızını) bulmak için aşağıdaki denklem kullanılabilir:\n",
    "```\n",
    "vf = vi + at\n",
    "burada:\n",
    "vf= son hız\n",
    "vi= ilk hız\n",
    "a= hızlanma\n",
    "t= zaman\n",
    "```\n",
    "İlk hız, ivme ve zaman verildiğinde, son hızı döndürecek bir fonksiyon yazın."
   ]
  },
  {
   "cell_type": "code",
   "execution_count": 1,
   "metadata": {
    "id": "vWrjJiV0M-Jk"
   },
   "outputs": [
    {
     "name": "stdout",
     "output_type": "stream",
     "text": [
      "20\n"
     ]
    }
   ],
   "source": [
    "def son_hiz(vi, a, t):\n",
    "    return vi + (a * t)\n",
    "\n",
    "print(son_hiz(10, 2, 5))  "
   ]
  },
  {
   "cell_type": "markdown",
   "metadata": {
    "id": "uAHpyY5HM-Jq"
   },
   "source": [
    "# Problem 2\n",
    "\n",
    "1'den 1000'e kadar olan sayılardan mükemmel sayı olanları ekrana yazdırın. Bunun için bir sayının mükemmel olup olmadığını dönen bir tane fonksiyon yazın.\n",
    "\n",
    "Bir sayının bölenlerinin toplamı kendine eşitse bu sayı mükemmel bir sayıdır. Örnek olarak 6 mükemmel bir sayıdır (1 + 2 + 3 = 6)."
   ]
  },
  {
   "cell_type": "code",
   "execution_count": 2,
   "metadata": {
    "id": "yrY4Y5ncM-Jr"
   },
   "outputs": [
    {
     "name": "stdout",
     "output_type": "stream",
     "text": [
      "6 mükemmel sayısır.\n",
      "28 mükemmel sayısır.\n",
      "496 mükemmel sayısır.\n"
     ]
    }
   ],
   "source": [
    "def mukemmelMi(sayi):\n",
    "    toplam=0 \n",
    "    for i in range(1,sayi):\n",
    "        if sayi%i == 0:\n",
    "            toplam+=i\n",
    "    return toplam == sayi\n",
    "\n",
    "for i in range (1,1001):\n",
    "    if mukemmelMi(i):\n",
    "        print(i,\"mükemmel sayısır.\")        "
   ]
  },
  {
   "cell_type": "markdown",
   "metadata": {
    "id": "C2-XwlJtM-Jr"
   },
   "source": [
    "# Problem 3\n",
    "\n",
    "1'den 100'e kadar olan sayılardan pisagor üçgeni oluşturanları ekrana yazdıran bir fonksiyon yazın.(a <= 100,b <= 100)\n"
   ]
  },
  {
   "cell_type": "code",
   "execution_count": null,
   "metadata": {
    "id": "BMNy4xi-M-Js"
   },
   "outputs": [],
   "source": [
    "def pisagor_bulma():\n",
    "    pisagor_listesi = []\n",
    "\n",
    "    for i in range(1, 101):\n",
    "        for j in range(1, 101):\n",
    "            c = ((i ** 2) + (j ** 2)) ** 0.5\n",
    "            if c == int(c):\n",
    "                pisagor_listesi.append((i, j, int(c)))\n",
    "\n",
    "    return pisagor_listesi\n",
    "\n",
    "for i in pisagor_bulma():\n",
    "    print(i)\n"
   ]
  },
  {
   "cell_type": "markdown",
   "metadata": {
    "id": "oPfmWi4jM-Js"
   },
   "source": [
    "# Problem 4\n",
    "\n",
    "Bir duvar boyamaya karar verdiniz. Boya kutusunun üzerindeki talimatta, 1 kutu boyanın 5 metrekarelik bir duvarı boyayabileceği yazıyor. Rastgele bir duvar yüksekliği ve genişliği verildiğinde, kaç kutu boya satın almanız gerektiğini hesaplayın.\n",
    "\n",
    "kutu sayısı = (duvar yüksekliği * duvar genişliği) ÷ kutu başına kaplama.\n",
    "\n",
    "örneğin Yükseklik = 2, Genişlik = 4, Kaplama = 5\n",
    "\n",
    "kutu sayısı = (2 * 4) ÷ 5 = 1.6\n",
    "\n",
    "Ancak bir kutu boyanın 0,6'sını satın alamayacağınız için, sonuç 2 kutuya yuvarlanmalıdır .\n"
   ]
  },
  {
   "cell_type": "code",
   "execution_count": null,
   "metadata": {
    "id": "0zuyzSp5M-Jt"
   },
   "outputs": [],
   "source": [
    "import math\n",
    "\n",
    "def boya_hesapla(yukseklik, genislik, kaplama):\n",
    "    alan = yukseklik * genislik\n",
    "    kutu_sayisi = math.ceil(alan / kaplama)\n",
    "    print(f\"Gerekli kutu sayısı: {kutu_sayisi}\")\n",
    "\n",
    "\n",
    "boya_hesapla(2, 4, 5)\n"
   ]
  },
  {
   "cell_type": "markdown",
   "metadata": {
    "id": "pe6TJuBBM-Ju"
   },
   "source": [
    "# Problem 5\n",
    "\n",
    "Bir kelimedeki ünlü ve ünsüz harfleri sayan bir fonksiyon yazınız."
   ]
  },
  {
   "cell_type": "code",
   "execution_count": null,
   "metadata": {
    "id": "LJ0opjiLM-Ju"
   },
   "outputs": [],
   "source": [
    "def harf_sayaci(kelime):\n",
    "    unlu_harfler = \"aeıioöuüAEIİOÖUÜ\"\n",
    "    unlu_sayisi = sum(1 for harf in kelime if harf in unlu_harfler)\n",
    "    unsuz_sayisi = sum(1 for harf in kelime if harf.isalpha() and harf not in unlu_harfler)\n",
    "\n",
    "    print(f\"Ünlü harf sayısı: {unlu_sayisi}\")\n",
    "    print(f\"Ünsüz harf sayısı: {unsuz_sayisi}\")\n",
    "\n",
    "harf_sayaci(\"Python\")\n"
   ]
  },
  {
   "cell_type": "markdown",
   "metadata": {
    "id": "Lfls2YTXM-Jv"
   },
   "source": [
    "# Problem 6\n",
    "\n",
    "Verilen bir listeden çift sayıları yazdıran bir fonksiyon yazınız.\n"
   ]
  },
  {
   "cell_type": "code",
   "execution_count": 1,
   "metadata": {
    "id": "qUwsL20IM-Jv"
   },
   "outputs": [
    {
     "name": "stdout",
     "output_type": "stream",
     "text": [
      "Çift sayılar: [2, 4, 6, 8, 10]\n"
     ]
    }
   ],
   "source": [
    "def cift_sayilari_yazdir(listem):\n",
    "    cift_sayilar = [sayi for sayi in listem if sayi % 2 == 0]\n",
    "    print(\"Çift sayılar:\", cift_sayilar)\n",
    "\n",
    "cift_sayilari_yazdir([1, 2, 3, 4, 5, 6, 7, 8, 9, 10])\n"
   ]
  },
  {
   "cell_type": "markdown",
   "metadata": {
    "id": "IPp724iIM-Jy"
   },
   "source": [
    "# Problem 7\n",
    "\n",
    "0'dan 10'a kadar olan sayıların toplamını hesaplayan özyinelemeli (Recursive Function) bir fonksiyon oluşturan bir fonksiyon yazınız.\n",
    "\n",
    "Özyinelemeli (Recursive Function) bir işlev, kendini tekrar tekrar çağıran bir işlevdir."
   ]
  },
  {
   "cell_type": "code",
   "execution_count": 3,
   "metadata": {
    "id": "KFW6xhTJM-Jz"
   },
   "outputs": [
    {
     "name": "stdout",
     "output_type": "stream",
     "text": [
      "55\n"
     ]
    }
   ],
   "source": [
    "def addition(num):\n",
    "    if num:\n",
    "        return num + addition(num-1)\n",
    "    else:\n",
    "        return 0\n",
    "    \n",
    "print(addition(10))"
   ]
  }
 ],
 "metadata": {
  "colab": {
   "provenance": []
  },
  "kernelspec": {
   "display_name": "Python 3",
   "language": "python",
   "name": "python3"
  },
  "language_info": {
   "codemirror_mode": {
    "name": "ipython",
    "version": 3
   },
   "file_extension": ".py",
   "mimetype": "text/x-python",
   "name": "python",
   "nbconvert_exporter": "python",
   "pygments_lexer": "ipython3",
   "version": "3.13.2"
  },
  "orig_nbformat": 4
 },
 "nbformat": 4,
 "nbformat_minor": 0
}

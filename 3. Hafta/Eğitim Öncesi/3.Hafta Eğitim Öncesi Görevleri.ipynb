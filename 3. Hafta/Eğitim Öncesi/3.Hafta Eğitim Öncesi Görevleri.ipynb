{
  "cells": [
    {
      "cell_type": "markdown",
      "metadata": {
        "id": "tsD4YVAe_Te2"
      },
      "source": [
        "# Problem 1\n",
        "Bir sayının 7'ye bölünebilir olup olmadığını kontrol etmek \n",
        "için bir program yazın.\n",
        "\n",
        "İpucu: Mod operatörünü (%) kullanabilirsiniz."
      ]
    },
    {
      "cell_type": "code",
      "execution_count": 26,
      "metadata": {
        "id": "NGjvNwKx_Te7"
      },
      "outputs": [
        {
          "name": "stdout",
          "output_type": "stream",
          "text": [
            "5 sayısı 7'ye tam bölünmez \n"
          ]
        }
      ],
      "source": [
        "sayi = int(input(\"sayı giriniz:\"))\n",
        "if sayi %7 == 0 :\n",
        "    print(f\"{sayi} sayısı 7'ye tam bölünür\")\n",
        "else:\n",
        "    print(f\"{sayi} sayısı 7'ye tam bölünmez \")"
      ]
    },
    {
      "cell_type": "markdown",
      "metadata": {
        "id": "Kg3qiBAI_Te8"
      },
      "source": [
        "# Problem 2\n",
        "Kullanıcıdan vize ve final notu isteyin. Girilen vize notunun %40’ı ve \n",
        "girilen finalnotunun ise %60’ı alınarak yıl sonu not ortalaması hesaplanacaktır. \n",
        "\n",
        "Bu not ortalaması eğer 85 ve üzeri ise AA, \n",
        "\n",
        "75 ve 85 arasında ise BA, \n",
        "\n",
        "70 ve 75 arasında ise BB, \n",
        "\n",
        "65 ve 70 arasında ise CB,\n",
        "\n",
        "60 ve 65 arasında ise CC,\n",
        "\n",
        "55 ve 60 arasında ise DC,\n",
        "\n",
        "50 ve 55 arasında ise DD olarak hesaplanacaktır. \n",
        "\n",
        "Bu öğrencinin yıl sonu toplam notu 50’nin altında ise FF ile dersten kalacaktır. \n",
        "\n",
        "Ayrıca öğrencinin final notu 50’nin altında ise direkt FF ile kalacaktır."
      ]
    },
    {
      "cell_type": "code",
      "execution_count": 10,
      "metadata": {
        "id": "MXTtCxI1_Te8"
      },
      "outputs": [
        {
          "name": "stdout",
          "output_type": "stream",
          "text": [
            "DD\n",
            "Yıl sonu ortalamanız: 51.4\n"
          ]
        }
      ],
      "source": [
        "vize_notu = float(input(\"Vize notunu giriniz: \"))\n",
        "final_notu = float(input(\"Final notunu giriniz: \"))\n",
        "\n",
        "vize = vize_notu * 40 / 100\n",
        "final = final_notu * 60 / 100\n",
        "notort = vize + final  \n",
        "\n",
        "if final_notu < 50:\n",
        "    print(\"FF, finalden 50'nin altında aldığınız için dersten kaldınız\")\n",
        "else:\n",
        "    if notort >= 85:\n",
        "        print(\"AA\")\n",
        "    elif 75 <= notort < 85:\n",
        "        print(\"BA\")\n",
        "    elif 70 <= notort < 75:\n",
        "        print(\"BB\")\n",
        "    elif 65 <= notort < 70:\n",
        "        print(\"CB\")\n",
        "    elif 60 <= notort < 65:\n",
        "        print(\"CC\")\n",
        "    elif 55 <= notort < 60:\n",
        "        print(\"DC\")\n",
        "    elif 50 <= notort < 55:\n",
        "        print(\"DD\")\n",
        "    else:\n",
        "        print(\"FF, dersten kaldınız\")\n",
        "\n",
        "print(f\"Yıl sonu ortalamanız: {notort}\")\n"
      ]
    },
    {
      "cell_type": "markdown",
      "metadata": {
        "id": "tAoRYCTC_Te8"
      },
      "source": [
        "# Problem 3\n",
        "İki YetGenli Zirve'de karşılaşıyorlar. Birbirlerini tanımak için sorular soruyorlar. Birbirlerine yaşlarını soruyorlar. Akıllarına bir Python programı yazıp, yaşlarını ve isimlerini giriyorlar. Büyük olanın yaşını ekrana yazdıran programı yazıyorlar. Sende bu iki YetGenli'ye destek olmak ister misin?\n",
        "\n",
        "```\n",
        "Birinci YetGenlinin ismi: Ahmet\n",
        "Birinci YetGenlinin yaşı : 20\n",
        "İkinci YetGenlinin ismi: Mehmet\n",
        "İkinci YetGenlinin yaşı : 25\n",
        "Mehmet'in yaşı daha büyük ve yaşı 25'tir.\n",
        "```"
      ]
    },
    {
      "cell_type": "code",
      "execution_count": 15,
      "metadata": {
        "id": "bPjE8W0i_Te8"
      },
      "outputs": [
        {
          "name": "stdout",
          "output_type": "stream",
          "text": [
            "şevval'nin yaşı daha büyüktür ve 23 yaşındadır.\n"
          ]
        }
      ],
      "source": [
        "birinci_yetgenli= str(input(\"ilk isim:\"))\n",
        "birinci_yas = int(input(\"yaşınız:\"))\n",
        "ikinci_yetgenli = str(input(\"ikinci isim\"))\n",
        "ikinci_yas = int(input(\"yaşınız:\"))\n",
        "\n",
        "if birinci_yas < ikinci_yas:\n",
        "    print(f\"{ikinci_yetgenli}'nin yaşı daha büyüktür ve {ikinci_yas} yaşındadır.\")\n",
        "else:\n",
        "    print(f\"{birinci_yetgenli}'nin yaşı daha büyüktür ve {birinci_yas} yaşındadır.\")    "
      ]
    },
    {
      "cell_type": "markdown",
      "metadata": {
        "id": "zBVv8Tyg_Te9"
      },
      "source": [
        "# Problem 4\n",
        "Pandemi döneminde AVM'lerde ateş ölçümü yapılıyor. AVM'ye giren kişinin ateş ölçümü 37.5 derecenin altında ise girişe izin veriliyor. 37.5 derecenin üstünde ise girişe izin verilmiyor. AVM'ye girişe izin verilip verilmediğini ekrana yazdıran bir program yazın.\n",
        "\n",
        "Program sonunda şöyle bir çıktı elde etmelisiniz:\n",
        "\n",
        "```\n",
        "Ateşiniz 37.5 derece. AVM'ye girebilirsin! Maske takmayı unutma!\n",
        "Ateşiniz 37.6 derece. AVM'ye giremezsin! Hemen evine dön!\n",
        "```"
      ]
    },
    {
      "cell_type": "code",
      "execution_count": 2,
      "metadata": {
        "id": "TSAXs8et_Te9"
      },
      "outputs": [
        {
          "name": "stdout",
          "output_type": "stream",
          "text": [
            " Ateşiniz 35.0 derecedir. AVM'ye girebilirsiniz! Maske takmayı unutmayın!\n"
          ]
        }
      ],
      "source": [
        "ates = float(input(\"ateş ölçümü:\"))\n",
        "if ates <= 37.5:\n",
        "    print(f\" Ateşiniz \" + str(ates) + \" derecedir. AVM'ye girebilirsiniz! Maske takmayı unutmayın!\")\n",
        "else:\n",
        "    print(f\"Ateşiniz {ates} derecedir. AVM'ye giremesziniz! Hemen evinize dönünüz!\")    "
      ]
    },
    {
      "cell_type": "markdown",
      "metadata": {
        "id": "6AEkZrDt_Te9"
      },
      "source": [
        "# Problem 5\n",
        "YetGen bir spor kulübüyle sponsorluk anlaşması yapıyor. Kulüp, sponsorluk anlaşmasına göre her YetGen liderinin beden kitle indeksini hesaplamak istiyor. Spor kulübü, beden kitle indeksini hesaplamak için YetGen Jump Python liderlerinden Berkcan ve Ahmet'i arıyor. Berkcan ve Ahmet, kulübe yardımcı olmak için bir Python programı yazıyorlar. Sende bu iki YetGen liderine destek olmak ister misin?\n",
        "\n",
        "Kullanıcıdan alınan boy ve kilo değerlerine göre beden kitle indeksini hesaplayın ve şu kurallara göre ekrana şu yazıları yazdırın.\n",
        "\n",
        "\n",
        "Beden Kitle İndeksi, kişinin ağırlığının (kg olarak) boyunun karesine (m olarak) bölünmesiyle hesaplanır.\n",
        "\n",
        "\n",
        "```\n",
        " BKİ 18.5'un altındaysa -------> Zayıf\n",
        "\n",
        " BKİ 18.5 ile 25 arasındaysa ------> Normal\n",
        "\n",
        " BKİ 25 ile 30 arasındaysa --------> Fazla Kilolu\n",
        "\n",
        " BKİ 30'un üstündeyse -------------> Obez\n",
        "```\n",
        "\n"
      ]
    },
    {
      "cell_type": "code",
      "execution_count": 4,
      "metadata": {
        "id": "t-XPI_u0_Te-"
      },
      "outputs": [
        {
          "name": "stdout",
          "output_type": "stream",
          "text": [
            "0.002409297052154195  Zayıf\n"
          ]
        }
      ],
      "source": [
        "boy = float(input(\"Boyunuzu (metre cinsinden) giriniz: \"))\n",
        "kilo = float(input(\"Kilonuzu (kg cinsinden) giriniz: \"))\n",
        "\n",
        "bki = kilo / (boy ** 2)\n",
        "\n",
        "if bki < 18.5:\n",
        "    print(bki,\" Zayıf\")\n",
        "elif bki < 25:\n",
        "   print(bki, \" Normal\")\n",
        "elif bki < 30:\n",
        "    print(bki, \" Fazla Kilolu\")\n",
        "else:\n",
        "    print(bki, \" Obez\")"
      ]
    },
    {
      "cell_type": "markdown",
      "metadata": {
        "id": "oFsvQyaO_Te-"
      },
      "source": [
        "# Problem 6\n",
        "Kullanıcıdan isim, yaş ve eğitim bilgilerini isteyip ehliyet alabilme  durumunu kontrol ediniz. \n",
        "\n",
        "Ehliyet alma koşulu en az 18 yaşında ve eğitim durumu lise ya da üniversite olmalıdır. "
      ]
    },
    {
      "cell_type": "code",
      "execution_count": null,
      "metadata": {
        "id": "Tu2mcgco_Te-"
      },
      "outputs": [
        {
          "name": "stdout",
          "output_type": "stream",
          "text": [
            "Sayın şevval, ehliyet alabilirsiniz.\n"
          ]
        }
      ],
      "source": [
        "isim = input(\"İsminiz: \")\n",
        "yas = int(input(\"Yaşınız: \"))\n",
        "egitim = input(\"Eğitim durumunuz: \").lower()  # Kullanıcının girişi küçük harfe çevrildi\n",
        "\n",
        "if yas >= 18 and (egitim == \"lise\" or egitim == \"üniversite\"):\n",
        "    print(f\"Sayın {isim}, ehliyet alabilirsiniz.\")\n",
        "else:\n",
        "    print(f\"Sayın {isim}, ehliyet alamazsınız.\")  "
      ]
    },
    {
      "cell_type": "markdown",
      "metadata": {
        "id": "eUkxVSAE_Te_"
      },
      "source": [
        "# Problem 7\n",
        "Bir yılın artık yıl olup olmadığını kontrol etmek için bir program yazın. \n",
        "Artık yıl kuralı:\n",
        "\n",
        "a) Eğer yılın son iki basamağı (00) ile bitmiyor ve yalnızca 4'e tam bölünüyorsa artık yıldır. Ya da, \n",
        "\n",
        "b) Eğer yıl 400'e tam bölünüyorsa artık yıldır.\n",
        "\n",
        "**Örneğin**\n",
        "```\n",
        "2017 artık yıl değildir.\n",
        "1900 artık yıl değildir\n",
        "2012 artık yıldır.\n",
        "2000 artık yıldır.\n",
        "```"
      ]
    },
    {
      "cell_type": "code",
      "execution_count": 25,
      "metadata": {
        "id": "4uWh8qUL_Te_"
      },
      "outputs": [
        {
          "name": "stdout",
          "output_type": "stream",
          "text": [
            "2013 bir artık yıl değildir.\n"
          ]
        }
      ],
      "source": [
        "yil = int(input(\"Bir yıl giriniz: \"))\n",
        "\n",
        "if (yil % 4 == 0 and yil % 100 != 0) or (yil % 400 == 0):\n",
        "    print(f\"{yil} bir artık yıldır.\")\n",
        "else:\n",
        "    print(f\"{yil} bir artık yıl değildir.\")\n"
      ]
    }
  ],
  "metadata": {
    "colab": {
      "provenance": []
    },
    "kernelspec": {
      "display_name": "Python 3",
      "language": "python",
      "name": "python3"
    },
    "language_info": {
      "codemirror_mode": {
        "name": "ipython",
        "version": 3
      },
      "file_extension": ".py",
      "mimetype": "text/x-python",
      "name": "python",
      "nbconvert_exporter": "python",
      "pygments_lexer": "ipython3",
      "version": "3.13.2"
    },
    "orig_nbformat": 4
  },
  "nbformat": 4,
  "nbformat_minor": 0
}

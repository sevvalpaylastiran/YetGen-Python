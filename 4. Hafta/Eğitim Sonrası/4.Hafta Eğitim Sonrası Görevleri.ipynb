{
 "cells": [
  {
   "cell_type": "markdown",
   "metadata": {},
   "source": [
    "# Problem 1\n",
    "`ogrenciler` adında bir sözlük oluşturunuz. Kullanıcıdan döngü yardımıyla 3 öğrenci için veri girmesini isteyerek öğrencilerin sırasıyla okul numarası, isim, soy isim, telefon numarası ve doğum tarihi bilgilerini alınız. Aldığınız öğrenci bilgilerini yine aynı döngü yardımıyla `ogrenciler` adındaki sözlükte saklayınız. Daha sonra öğrenci bilgilerinin bulunduğu sözlük yapısını ekrana bastırınız.\n",
    "\n"
   ]
  },
  {
   "cell_type": "code",
   "execution_count": 8,
   "metadata": {},
   "outputs": [
    {
     "name": "stdout",
     "output_type": "stream",
     "text": [
      "-------------------------------\n",
      "-------------------------------\n",
      "-------------------------------\n",
      "{1: {'no': '212001013', 'isim': 'şevval', 'soy isim': 'paylaştıran', 'telefon': '05439655181', 'doğum tarihi': '23.07.2001'}, 2: {'no': '25562563', 'isim': 'büşra ', 'soy isim': 'yükyapan', 'telefon': '0545369855', 'doğum tarihi': '24.06.2001'}, 3: {'no': '21565412', 'isim': 'sede', 'soy isim': 'sucu', 'telefon': '0541236855', 'doğum tarihi': '26.06.2002'}}\n"
     ]
    }
   ],
   "source": [
    "ogrenciler = {}\n",
    "\n",
    "for i in range(1,4):\n",
    "    okul_no = input(\"okul no:\")\n",
    "    isim = input(\"isminiz:\")\n",
    "    soy_isim = input(\"soyisminiz:\")\n",
    "    telefon = input(\"telefon no:\")\n",
    "    dogum_tarihi = input(\"doğum tarihiniz:\")\n",
    "    print(\"-------------------------------\")\n",
    "\n",
    "    ogrenciler[i] = {\n",
    "        \"no\" : okul_no,\n",
    "        \"isim\" : isim,\n",
    "        \"soy isim\" : soy_isim,\n",
    "        \"telefon\" : telefon,\n",
    "        \"doğum tarihi\" : dogum_tarihi\n",
    "    }\n",
    "\n",
    "print(ogrenciler)\n",
    "\n"
   ]
  },
  {
   "cell_type": "markdown",
   "metadata": {},
   "source": [
    "# Problem 2\n",
    "\n",
    "### a - Biraz ısınarak başlayalım!\n",
    "\n",
    "```\n",
    "numbers = [5,10,10,15,15,15,20,20,20,20]\n",
    "```\n",
    "\n",
    "Yukarıda `numbers` adında 10 elemanlı bir liste verilmiştir. Bu listenin her elemanını kontrol eden ve tekrar eden elemanları bir kez olacak şekilde başka bir listeye kopyalayan bir program yazınız. Son olarak oluşturduğunuz listeyi ekrana bastırınız.\n",
    "\n",
    "\n",
    "\n",
    "\n",
    "```\n",
    ">Output\n",
    "[5, 10, 15, 20]\n",
    "```\n"
   ]
  },
  {
   "cell_type": "code",
   "execution_count": null,
   "metadata": {},
   "outputs": [
    {
     "name": "stdout",
     "output_type": "stream",
     "text": [
      "[5, 10, 15, 20]\n",
      "[5, 10, 15, 20]\n"
     ]
    }
   ],
   "source": [
    "numbers = [5,10,10,15,15,15,20,20,20,20]\n",
    "liste = list(set(numbers))\n",
    "liste.sort()\n",
    "print(liste)\n",
    "\n",
    "#ikinci çözüm\n",
    "unique = []\n",
    "for i in numbers:\n",
    "    if i in unique:\n",
    "        continue\n",
    "    else:\n",
    "        unique.append(i)\n",
    "\n",
    "print(unique)        "
   ]
  },
  {
   "cell_type": "markdown",
   "metadata": {},
   "source": [
    "### 🌶️ b) Hadi işi biraz daha zorlaştıralım! \n",
    "\n",
    "\n",
    "Şimdiyse senden `numbers` isimli listedeki tekrar eden elemanları `repeatNumbers` adındaki listeye; tekrar etmeyen elemanları `uniqueNumbers`adındaki listeye kopyalayan yazmanı ve listeleri ekrana bastırmanı bekliyoruz\n",
    "\n",
    "```\n",
    ">Output\n",
    "Tekrar Eden Elemanlar: [10, 10, 15, 15, 15, 20, 20, 20, 20]\n",
    "Tekrar Etmeyen Elemanlar: [5]\n",
    "```"
   ]
  },
  {
   "cell_type": "code",
   "execution_count": 13,
   "metadata": {},
   "outputs": [
    {
     "name": "stdout",
     "output_type": "stream",
     "text": [
      "Tekrar Eden Elemanlar: [10, 10, 15, 15, 15, 20, 20, 20, 20]\n",
      "Tekrar Etmeyen Elemanlar: [5]\n"
     ]
    }
   ],
   "source": [
    "numbers = [5, 10, 10, 15, 15, 15, 20, 20, 20, 20]\n",
    "\n",
    "repeatNumbers = []\n",
    "uniqueNumbers = []\n",
    "\n",
    "for i in numbers:\n",
    "    if numbers.count(i) > 1:\n",
    "        repeatNumbers.append(i)\n",
    "    else:\n",
    "        uniqueNumbers.append(i)\n",
    "\n",
    "print(\"Tekrar Eden Elemanlar:\", repeatNumbers)\n",
    "print(\"Tekrar Etmeyen Elemanlar:\", uniqueNumbers)\n",
    "\n"
   ]
  },
  {
   "cell_type": "markdown",
   "metadata": {},
   "source": [
    "# Problem 3\n",
    "sn1 = {1,2,3,4,5}\n",
    "\n",
    "sn2 = {4,5,6,7,8}\n",
    "\n",
    " Verilen 2 adet küme için kesişimlerini, farklarını ve birleşimlerini bulunuz. "
   ]
  },
  {
   "cell_type": "code",
   "execution_count": 15,
   "metadata": {},
   "outputs": [
    {
     "name": "stdout",
     "output_type": "stream",
     "text": [
      "birleşim: {1, 2, 3, 4, 5, 6, 7, 8}\n",
      "kesişim: {4, 5}\n",
      "sn1'in sn2'den farkı: {1, 2, 3}\n",
      "sn2'nin sn1'den farkı: {8, 6, 7}\n"
     ]
    }
   ],
   "source": [
    "sn1 = {1,2,3,4,5}\n",
    "sn2 = {4,5,6,7,8}\n",
    "\n",
    "birleşim = sn1.union(sn2)\n",
    "kesişim = sn1.intersection(sn2)\n",
    "sn1_sn2 = sn1.difference(sn2)\n",
    "sn2_sn1 = sn2.difference(sn1)\n",
    "\n",
    "print(\"birleşim:\", birleşim)\n",
    "print(\"kesişim:\", kesişim)\n",
    "print(\"sn1'in sn2'den farkı:\", sn1_sn2)\n",
    "print(\"sn2'nin sn1'den farkı:\",sn2_sn1)"
   ]
  },
  {
   "cell_type": "markdown",
   "metadata": {},
   "source": [
    "# Problem 4\n",
    "\n",
    "Buradaki işlemlerimizin tamamı stringler içindir. Aşağıda verilecek olan metodlar için kendinizin örnek yaratması gerekmektedir. \n",
    "\n",
    "Örneğin `upper` için `string` değişkeni oluştururken` k = \"BAC\"` şeklinde oluşturmayınız. Bunun yerine k değişkenini `k = \"bac`\" şeklinde oluşturmanız `upper` metodundaki değişimi görebilmeniz için daha iyi olacaktır.\n",
    "\n",
    "Bütün metodlardaki değişimin gözle görülür şekilde değişimi beklenmektedir.\n",
    "\n",
    "\n",
    "1- capitalize(), lower(), upper(), swapcase(), title(), replace()\n",
    "\n",
    "2- endswith(), startswith(), find(), index(), count()\n",
    "\n",
    "3- split(), strip(), join(), islower(), isalpha(), isdigit()\n",
    "\n",
    "\n",
    "Yukarıdaki `string` metodlarındaki değişimleri görebildiğimiz bir program yazınız.\n"
   ]
  },
  {
   "cell_type": "code",
   "execution_count": 7,
   "metadata": {},
   "outputs": [
    {
     "name": "stdout",
     "output_type": "stream",
     "text": [
      "Python programlama\n",
      "python programlama\n",
      "PYTHON PROGRAMLAMA\n",
      "PYTHON PROGRAMLAMA\n",
      "Python Programlama\n",
      "Java programlama\n",
      "True\n",
      "True\n",
      "7\n",
      "7\n",
      "3\n",
      "['python', 'programlama']\n",
      "merhaba dünya\n",
      "python-programlama\n",
      "True\n",
      "True\n",
      "True\n"
     ]
    }
   ],
   "source": [
    "k = \"python programlama\"\n",
    "\n",
    "print(k.capitalize())  # İlk harfi büyük yapar\n",
    "print(k.lower())  # Tüm harfleri küçültür\n",
    "print(k.upper())  # Tüm harfleri büyütür\n",
    "print(k.swapcase())  # Küçük harfleri büyük, büyük harfleri küçük yapar\n",
    "print(k.title())  # Her kelimenin ilk harfini büyük yapar\n",
    "print(k.replace(\"python\", \"Java\"))  # Belirtilen kelimeyi değiştirir\n",
    "\n",
    "print(k.endswith(\"lama\"))  # Belirtilen ifadeyle bitiyor mu?\n",
    "print(k.startswith(\"py\"))  # Belirtilen ifadeyle başlıyor mu?\n",
    "print(k.find(\"prog\"))  # İlk geçen konumu döndürür, yoksa -1 döner\n",
    "print(k.index(\"prog\"))  # İlk geçen konumu döndürür, bulunmazsa hata verir\n",
    "print(k.count(\"a\"))  # Belirtilen karakterin kaç kez geçtiğini döndürür\n",
    "\n",
    "m = \"  merhaba dünya  \"\n",
    "print(k.split())  # Kelimelere böler\n",
    "print(m.strip())  # Baştaki ve sondaki boşlukları kaldırır\n",
    "print(\"-\".join(k.split()))  # Kelimeleri '-' ile birleştirir\n",
    "print(k.islower())  # Tüm harfler küçük mü?\n",
    "print(\"Python\".isalpha())  # Sadece harflerden mi oluşuyor?\n",
    "print(\"12345\".isdigit())  # Sadece rakamlardan mı oluşuyor?\n"
   ]
  },
  {
   "cell_type": "code",
   "execution_count": null,
   "metadata": {},
   "outputs": [],
   "source": []
  }
 ],
 "metadata": {
  "kernelspec": {
   "display_name": "Python 3",
   "language": "python",
   "name": "python3"
  },
  "language_info": {
   "codemirror_mode": {
    "name": "ipython",
    "version": 3
   },
   "file_extension": ".py",
   "mimetype": "text/x-python",
   "name": "python",
   "nbconvert_exporter": "python",
   "pygments_lexer": "ipython3",
   "version": "3.13.2"
  },
  "orig_nbformat": 4
 },
 "nbformat": 4,
 "nbformat_minor": 2
}

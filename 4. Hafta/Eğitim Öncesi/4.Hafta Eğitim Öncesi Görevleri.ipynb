{
 "cells": [
  {
   "cell_type": "markdown",
   "metadata": {
    "id": "-My6RWLrhXIq"
   },
   "source": [
    "# Problem 1\n",
    "Sözlükleri kullanarak bir telefon rehberi yazın. Bu rehberde kullanıcıya kimin telefonunu görüntülemek istediğini sorun ve kullanıcının girdiği isme göre o kişinin telefon numarasını yazdırın. Proje sonunda elde edeceğiniz çıktı  şuna benzer olmalı:\n",
    "\n",
    "\n",
    "Lütfen numarasını öğrenmek istediğiniz kişinin adını girin: Ahmet\n",
    "\n",
    "Ahmet isimli kişinin numarası şu şekildedir: 0532 678 13 19"
   ]
  },
  {
   "cell_type": "code",
   "execution_count": 4,
   "metadata": {
    "id": "LHIQEhchhXIu"
   },
   "outputs": [
    {
     "name": "stdout",
     "output_type": "stream",
     "text": [
      "Ahmet isimli kişinin numarası şu şekildedir: 0532 678 13 19\n"
     ]
    }
   ],
   "source": [
    "\n",
    "rehber = {\n",
    "    \"Ahmet\": \"0532 678 13 19\",\n",
    "    \"Mehmet\": \"0543 123 45 67\",\n",
    "    \"Ayşe\": \"0501 987 65 43\",\n",
    "    \"Fatma\": \"0555 111 22 33\"\n",
    "}\n",
    "\n",
    "isim = input(\"Lütfen numarasını öğrenmek istediğiniz kişinin adını girin: \")\n",
    "\n",
    "print(\"Ahmet isimli kişinin numarası şu şekildedir:\", rehber[isim])\n"
   ]
  },
  {
   "cell_type": "markdown",
   "metadata": {
    "id": "rlgfjEi7hXIv"
   },
   "source": [
    "# Problem 2\n",
    "Sözlükleri kullanarak bir şirket çalışanları indeksi oluşturun. Bu isim indeksinde kişilerin isimleri key, kişilerin  memleket, yaş ve görev bilgileri value olmalıdır. Burada kullanacağımız value değerleri liste olmalıdır.\n",
    "\n",
    "\n",
    "Daha sonra bir isim sorgulama ekranı gibi kullanıcıya kimin bilgilerini görüntülemek istediğini \n",
    "sorun ve sorgulanan kişinin ekranda gösterilmesini sağlayın. Proje sonunda elde edeceğiniz çıktı şu şekilde olmalı:\n",
    "\n",
    "\n",
    "Lütfen bilgilerini görüntülemek istediğiniz çalışanın ismini girin: Mehmet Yağız\n",
    "\n",
    "Mehmet Yağız= Memleket: Adana Yaş: 40 Görev: Direktör"
   ]
  },
  {
   "cell_type": "code",
   "execution_count": 7,
   "metadata": {
    "id": "O09zrrs0hXIv"
   },
   "outputs": [
    {
     "name": "stdout",
     "output_type": "stream",
     "text": [
      "Ayşe = memleket: Ankara, yaş: 32, görev: İK\n"
     ]
    }
   ],
   "source": [
    "sirket = {\n",
    "    \"Ayşe\" : [\"Ankara\" , \"32\" , \"İK\"],\n",
    "    \"Veli\" : [\"Bursa\" , \"46\" , \"Uzman Yardımcısı\"],\n",
    "    \"Sedef\" : [\"Muğla\" , \"23\" , \"Stajyer\"]\n",
    "}\n",
    "\n",
    "isim= input(\"Lütfen isim giriniz:\")\n",
    "print(f\"{isim} = memleket: {sirket[isim][0]}, yaş: {sirket[isim][1]}, görev: {sirket[isim][2]}\")"
   ]
  },
  {
   "cell_type": "markdown",
   "metadata": {
    "id": "G67ztXG-hXIw"
   },
   "source": [
    "# Problem 3\n",
    "\n",
    "3 öğrenciden oluşan bir öğrenci not sözlüğü oluşturun. Bu sözlükte öğrencilerin notları value olarak bir listede toplansın.\n",
    "\n",
    "Kullanıcıya hangi öğrencinin notlarını görmek istediğini sorun. Öğrencinin notu görüntülendiğinde program sonunda şöyle bir çıktı elde etmelisiniz:\n",
    "\n",
    "```\n",
    "Lütfen notlarını görmek istediğiniz öğrencinin adını girin: Mehmet\n",
    "\n",
    "Mehmet isimli öğrencinin      1.Sınav Notu:72\n",
    "                              2.Sınav Notu:66\n",
    "                              3.Sınav Notu:48\n",
    "Not Ortalaması: 62.0\n"
   ]
  },
  {
   "cell_type": "code",
   "execution_count": 9,
   "metadata": {
    "id": "TXQ_fuCHhXIw"
   },
   "outputs": [
    {
     "name": "stdout",
     "output_type": "stream",
     "text": [
      "Mehmet isimli öğrencinin;\n",
      " 1. sınav notu : 72 \n",
      " 2. sınav notu : 66 \n",
      " 3. sınav notu : 48\n",
      "Not Ortalaması: 62.0\n"
     ]
    }
   ],
   "source": [
    "ogrenciler = {\n",
    "    \"Mehmet\": [72, 66, 48],\n",
    "    \"Ahmet\" : [52, 68, 93],\n",
    "    \"Selin\" : [72, 66, 48]}\n",
    "\n",
    "öğrenci= input(\"Lütfen notları görmek istediğiniz öğrencinin adını girin:\")\n",
    "\n",
    "print(f\"{öğrenci} isimli öğrencinin;\\n 1. sınav notu : {ogrenciler[öğrenci][0]} \\n 2. sınav notu : {ogrenciler[öğrenci][1]} \\n 3. sınav notu : {ogrenciler[öğrenci][2]}\")\n",
    "ortalama= float((ogrenciler[öğrenci][0] + ogrenciler[öğrenci][1] + ogrenciler[öğrenci][2])//3)\n",
    "print(f\"Not Ortalaması: {ortalama}\")"
   ]
  },
  {
   "cell_type": "markdown",
   "metadata": {
    "id": "oel6A5WFhXIw"
   },
   "source": [
    "# Problem 4"
   ]
  },
  {
   "cell_type": "code",
   "execution_count": 2,
   "metadata": {
    "id": "jVRdspCrhXIx"
   },
   "outputs": [
    {
     "name": "stdout",
     "output_type": "stream",
     "text": [
      "4\n",
      "ilk eleman: BMW\n",
      "son eleman: Mazda\n",
      "['BMW', 'Mercedes', 'Opel', 'Toyota']\n",
      "Opel\n",
      "['BMW', 'Mercedes', 'Opel']\n",
      "['BMW', 'Mercedes', 'Toyota', 'Renault']\n",
      "['BMW', 'Mercedes', 'Toyota', 'Renault', 'Audi', 'Nissan']\n",
      "['BMW', 'Mercedes', 'Toyota', 'Renault', 'Audi']\n",
      "['Audi', 'Renault', 'Toyota', 'Mercedes', 'BMW']\n",
      "[['Yiğit Bilgi', 2010, (70, 60, 70)], ['Sena Turan', 1999, (80, 80, 70)], ['Ahmet Turan', 1998, (80, 70, 90)]]\n",
      "['Yiğit Bilgi', 2010, (70, 60, 70)]\n",
      "['Sena Turan', 1999, (80, 80, 70)]\n",
      "['Ahmet Turan', 1998, (80, 70, 90)]\n",
      "['Ali', 'Yağmur', 'Hakan', 'Deniz', 'Cenk']\n",
      "['Sena', 'Ali', 'Yağmur', 'Hakan', 'Deniz', 'Cenk']\n",
      "['Sena', 'Ali', 'Yağmur', 'Hakan', 'Cenk']\n",
      "True\n",
      "['Cenk', 'Hakan', 'Yağmur', 'Ali', 'Sena']\n",
      "['Ali', 'Cenk', 'Hakan', 'Sena', 'Yağmur']\n",
      "[1987, 1998, 1998, 2000]\n",
      "['Chevrolet', 'Dacia']\n",
      "2\n",
      "[]\n",
      "['opel', 'volvo', 'ford']\n"
     ]
    }
   ],
   "source": [
    "# 1-  \"Bmw, Mercedes, Opel, Mazda\" elemanlarına sahip bir liste oluşturunuz.\n",
    "markalar = [\"BMW\", \"Mercedes\", \"Opel\", \"Mazda\"]\n",
    "\n",
    "# 2-  Liste Kaç elemanlıdır ?\n",
    "print(len(markalar))\n",
    "\n",
    "# 3-  Listenin ilk ve son elemanı nedir ?\n",
    "print(f\"ilk eleman: {markalar[0]}\")\n",
    "print(f\"son eleman: {markalar[-1]}\")\n",
    "\n",
    "# 4-  Mazda değerini Toyota ile değiştirin.\n",
    "markalar[3]=\"Toyota\" \n",
    "print(markalar)\n",
    "\n",
    "# 5-  Listenin -2 indeksindeki değer nedir ?\n",
    "print(markalar[-2])\n",
    "\n",
    "# 6-  Listenin ilk 3 elemanını alın.\n",
    "print(markalar[:3])\n",
    "\n",
    "# 7-  Listenin son 2 elemanı yerine \"Toyota\" ve \"Renault\" değerlerini ekleyin.\n",
    "markalar[-2:]= [\"Toyota\", \"Renault\"]                                             #??????????????\n",
    "print(markalar)\n",
    "\n",
    "# 8-  Listenin üzerine \"Audi\" ve \"Nissan\" değerlerini ekleyin.\n",
    "markalar.extend([\"Audi\", \"Nissan\"])\n",
    "print(markalar)\n",
    "\n",
    "# 9- Listenin son elemanını silin.\n",
    "markalar.pop()\n",
    "print(markalar)\n",
    "\n",
    "# 10- Liste elemanlarını tersten yazdırınız.\n",
    "print(markalar[::-1])\n",
    "\n",
    "# 11- Aşağıdaki verileri bir liste içinde saklayınız. \n",
    "\n",
    "      # studentA: Yiğit Bilgi 2010, (70,60,70)\n",
    "      # studentB: Sena Turan  1999, (80,80,70)\n",
    "      # studentC: Ahmet Turan 1998, (80,70,90) \n",
    "students = [\n",
    "    [\"Yiğit Bilgi\", 2010, (70, 60, 70)],\n",
    "    [\"Sena Turan\", 1999, (80, 80, 70)],\n",
    "    [\"Ahmet Turan\", 1998, (80, 70, 90)]\n",
    "]\n",
    "print(students)\n",
    "\n",
    "\n",
    "# 12- Liste elemanlarını ekrana yazdırınız.\n",
    "for student in students:\n",
    "    print(student)\n",
    "  \n",
    "names = ['Ali','Yağmur','Hakan','Deniz']\n",
    "years = [1998, 2000, 1998, 1987]\n",
    "\n",
    "# 13-  \"Cenk\" ismini listenin sonuna ekleyiniz.\n",
    "names.append(\"Cenk\")\n",
    "print(names)\n",
    "\n",
    "# 14-  \"Sena\" değerini listenin başına ekleyiniz.\n",
    "names.insert(0, \"Sena\")\n",
    "print(names)\n",
    "\n",
    "# 15-  \"Deniz\" ismini listeden siliniz.\n",
    "names.remove(\"Deniz\")\n",
    "print(names)\n",
    "\n",
    "# 16-  \"Ali\" listenin bir elemanı mıdır ?\n",
    "print(\"Ali\" in names)\n",
    "\n",
    "# 17-  Liste elemanlarını ters çevirin.\n",
    "print(names[::-1])\n",
    "\n",
    "# 18-  Liste elemanlarını alfabetik olarak sıralayınız.\n",
    "names.sort()\n",
    "print(names)\n",
    "\n",
    "# 19-  years listesini rakamsal büyüklüğe göre sıralayınız.\n",
    "years.sort()\n",
    "print(years)\n",
    "\n",
    "# 20-  str = \"Chevrolet,Dacia\" karakter dizisini listeye çeviriniz.\n",
    "dizi= list((\"Chevrolet\",\"Dacia\"))\n",
    "print(dizi)\n",
    "\n",
    "# 21- years dizisinde kaç tane 1998 değeri vardır ?\n",
    "print(years.count(1998))\n",
    "\n",
    "# 22- years dizisinin tüm elemanlarını siliniz.\n",
    "years.clear()\n",
    "print(years)\n",
    "\n",
    "# 23- Kullanıcıdan alacağınız 3 tane marka bilgisini bir listede saklayınız.\n",
    "user_brands = []\n",
    "for i in range(3):\n",
    "    brand = input(f\"{i+1}. Markayı giriniz: \")\n",
    "    user_brands.append(brand)\n",
    "\n",
    "print(user_brands)\n"
   ]
  },
  {
   "cell_type": "code",
   "execution_count": null,
   "metadata": {},
   "outputs": [],
   "source": []
  }
 ],
 "metadata": {
  "colab": {
   "provenance": []
  },
  "kernelspec": {
   "display_name": "Python 3",
   "language": "python",
   "name": "python3"
  },
  "language_info": {
   "codemirror_mode": {
    "name": "ipython",
    "version": 3
   },
   "file_extension": ".py",
   "mimetype": "text/x-python",
   "name": "python",
   "nbconvert_exporter": "python",
   "pygments_lexer": "ipython3",
   "version": "3.13.2"
  },
  "orig_nbformat": 4
 },
 "nbformat": 4,
 "nbformat_minor": 0
}

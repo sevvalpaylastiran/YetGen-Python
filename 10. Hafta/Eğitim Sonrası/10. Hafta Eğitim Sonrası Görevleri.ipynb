{
 "cells": [
  {
   "attachments": {},
   "cell_type": "markdown",
   "metadata": {},
   "source": [
    "# Problem 1 "
   ]
  },
  {
   "cell_type": "code",
   "execution_count": null,
   "metadata": {},
   "outputs": [],
   "source": [
    "# 1 - numpy kütüphanesini import edin\n",
    "import numpy as np\n",
    "\n",
    "# 2 - 5 elemanlı bir numpy array oluşturun\n",
    "dizi = np.array([12, 4, 9, 1, 7])\n",
    "print(\"Orijinal dizi:\", dizi)\n",
    "\n",
    "# 3 - Oluşturduğunuz arrayi küçükten büyüğe sıralayın\n",
    "sirali_dizi = np.sort(dizi)\n",
    "print(\"Sıralanmış dizi:\", sirali_dizi)\n",
    "\n"
   ]
  },
  {
   "attachments": {},
   "cell_type": "markdown",
   "metadata": {},
   "source": [
    "# Problem 2"
   ]
  },
  {
   "cell_type": "code",
   "execution_count": 1,
   "metadata": {},
   "outputs": [
    {
     "name": "stdout",
     "output_type": "stream",
     "text": [
      "1: [10 15 30 45 60]\n",
      "2: [ 5  6  7  8  9 10 11 12 13 14 15]\n",
      "3: [ 50  55  60  65  70  75  80  85  90  95 100]\n",
      "4: [0. 0. 0. 0. 0. 0. 0. 0. 0. 0.]\n",
      "5: [1. 1. 1. 1. 1. 1. 1. 1. 1. 1.]\n",
      "6: [  0.  25.  50.  75. 100.]\n",
      "7: [24 18 25 22 22]\n",
      "8: [ 0.93552691 -0.93930501  0.11467625 -0.46246211  0.96713127  0.79578101\n",
      " -0.86518087 -0.46460993  0.54262539  0.83435356]\n",
      "9:\n",
      " [[43 21 13 46 30]\n",
      " [13 28 36 38 13]\n",
      " [21 10 24 25 15]]\n",
      "10 - Satır toplamları: [153 128  95]\n",
      "10 - Sütun toplamları: [ 77  59  73 109  58]\n",
      "11 - En büyük: 46 En küçük: 10 Ortalama: 25.066666666666666\n",
      "12 - En büyük değerin indeksi: (np.int64(0), np.int64(3))\n",
      "13 - İlk 3 eleman: [10 11 12]\n",
      "14 - Tersten yazılmış dizi: [20 19 18 17 16 15 14 13 12 11 10]\n",
      "15 - İlk satır: [43 21 13 46 30]\n",
      "16 - 2.satır 3.sütun elemanı: 36\n",
      "17 - Tüm satırların ilk elemanları: [43 13 21]\n",
      "18 - Elemanların kareleri:\n",
      " [[1849  441  169 2116  900]\n",
      " [ 169  784 1296 1444  169]\n",
      " [ 441  100  576  625  225]]\n",
      "19 - Matris:\n",
      " [[ 13  28  47   5  42]\n",
      " [  0  50   6 -30 -10]\n",
      " [  7 -30 -34  -4 -26]]\n",
      "19 - Pozitif çift sayılar: [28 42 50  6]\n"
     ]
    }
   ],
   "source": [
    "import numpy as np\n",
    "\n",
    "# 1- (10,15,30,45,60) değerlerine sahip numpy dizisi oluşturunuz.\n",
    "dizi1 = np.array([10, 15, 30, 45, 60])\n",
    "print(\"1:\", dizi1)\n",
    "\n",
    "# 2- (5-15) arasındaki sayılarla numpy dizisi oluşturunuz.\n",
    "dizi2 = np.arange(5, 16)\n",
    "print(\"2:\", dizi2)\n",
    "\n",
    "# 3- (50-100) arasında 5'er 5'er artarak numpy dizisi oluşturunuz.\n",
    "dizi3 = np.arange(50, 101, 5)\n",
    "print(\"3:\", dizi3)\n",
    "\n",
    "# 4- 10 elemanlı sıfırlardan oluşan bir dizi oluşturunuz.\n",
    "dizi4 = np.zeros(10)\n",
    "print(\"4:\", dizi4)\n",
    "\n",
    "# 5- 10 elemanlı birlerden oluşan bir dizi oluşturunuz.\n",
    "dizi5 = np.ones(10)\n",
    "print(\"5:\", dizi5)\n",
    "\n",
    "# 6- (0-100) arasında eşit aralıklı 5 sayı üretin.\n",
    "dizi6 = np.linspace(0, 100, 5)\n",
    "print(\"6:\", dizi6)\n",
    "\n",
    "# 7- (10-30) arasında rastgele 5 tane tamsayı üretin.\n",
    "dizi7 = np.random.randint(10, 30, 5)\n",
    "print(\"7:\", dizi7)\n",
    "\n",
    "# 8- [-1 ile 1] arasında 10 adet sayı üretin.\n",
    "dizi8 = np.random.uniform(-1, 1, 10)\n",
    "print(\"8:\", dizi8)\n",
    "\n",
    "# 9- (3x5) boyutlarında (10-50) arasında rastgele bir matris oluşturunuz.\n",
    "matris9 = np.random.randint(10, 50, (3, 5))\n",
    "print(\"9:\\n\", matris9)\n",
    "\n",
    "# 10- Üretilen matrisin satır ve sütun sayıları toplamlarını hesaplayınız ?\n",
    "satir_toplamlari = matris9.sum(axis=1)\n",
    "sutun_toplamlari = matris9.sum(axis=0)\n",
    "print(\"10 - Satır toplamları:\", satir_toplamlari)\n",
    "print(\"10 - Sütun toplamları:\", sutun_toplamlari)\n",
    "\n",
    "# 11- Üretilen matrisin en büyük, en küçük ve ortalaması nedir ?\n",
    "en_buyuk = matris9.max()\n",
    "en_kucuk = matris9.min()\n",
    "ortalama = matris9.mean()\n",
    "print(\"11 - En büyük:\", en_buyuk, \"En küçük:\", en_kucuk, \"Ortalama:\", ortalama)\n",
    "\n",
    "# 12- Üretilen matrisin en büyük değerinin indeksi kaçtır ?\n",
    "en_buyuk_indeks = np.unravel_index(matris9.argmax(), matris9.shape)\n",
    "print(\"12 - En büyük değerin indeksi:\", en_buyuk_indeks)\n",
    "\n",
    "# 13- (10-20) arasındaki sayıları içeren dizinin ilk 3 elemanını seçiniz.\n",
    "dizi13 = np.arange(10, 21)\n",
    "ilk_uc_eleman = dizi13[:3]\n",
    "print(\"13 - İlk 3 eleman:\", ilk_uc_eleman)\n",
    "\n",
    "# 14- Üretilen dizinin elemanlarını tersten yazdırın.\n",
    "tersten = dizi13[::-1]\n",
    "print(\"14 - Tersten yazılmış dizi:\", tersten)\n",
    "\n",
    "# 15- Üretilen matrisin ilk satırını seçiniz.\n",
    "ilk_satir = matris9[0]\n",
    "print(\"15 - İlk satır:\", ilk_satir)\n",
    "\n",
    "# 16- Üretilen matrisin 2.satır 3.sütundaki elemanı hangisidir ?\n",
    "eleman_2satir_3sutun = matris9[1, 2]\n",
    "print(\"16 - 2.satır 3.sütun elemanı:\", eleman_2satir_3sutun)\n",
    "\n",
    "# 17- Üretilen matrisin tüm satırlardaki ilk elemanı seçiniz.\n",
    "tum_satirlar_ilk_eleman = matris9[:, 0]\n",
    "print(\"17 - Tüm satırların ilk elemanları:\", tum_satirlar_ilk_eleman)\n",
    "\n",
    "# 18- Üretilen matrisin her bir elemanının karesini alınız.\n",
    "kare_matris = matris9 ** 2\n",
    "print(\"18 - Elemanların kareleri:\\n\", kare_matris)\n",
    "\n",
    "# 19- Üretilen matris elemanlarının hangisi pozitif çift sayıdır ? Aralığı (-50,+50) arasında yapınız.\n",
    "matris19 = np.random.randint(-50, 51, (3, 5))\n",
    "pozitif_ciftler = matris19[(matris19 > 0) & (matris19 % 2 == 0)]\n",
    "print(\"19 - Matris:\\n\", matris19)\n",
    "print(\"19 - Pozitif çift sayılar:\", pozitif_ciftler)\n",
    "\n"
   ]
  },
  {
   "cell_type": "code",
   "execution_count": null,
   "metadata": {},
   "outputs": [],
   "source": []
  }
 ],
 "metadata": {
  "kernelspec": {
   "display_name": "Python 3",
   "language": "python",
   "name": "python3"
  },
  "language_info": {
   "codemirror_mode": {
    "name": "ipython",
    "version": 3
   },
   "file_extension": ".py",
   "mimetype": "text/x-python",
   "name": "python",
   "nbconvert_exporter": "python",
   "pygments_lexer": "ipython3",
   "version": "3.13.2"
  },
  "orig_nbformat": 4,
  "vscode": {
   "interpreter": {
    "hash": "5026d2d6e7aaaaba093def813beadff083d8733e4a511af01735cbabd156995d"
   }
  }
 },
 "nbformat": 4,
 "nbformat_minor": 2
}

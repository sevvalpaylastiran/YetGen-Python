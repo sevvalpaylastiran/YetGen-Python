{
 "cells": [
  {
   "attachments": {},
   "cell_type": "markdown",
   "metadata": {},
   "source": [
    "# Problem 1"
   ]
  },
  {
   "cell_type": "code",
   "execution_count": 3,
   "metadata": {},
   "outputs": [
    {
     "name": "stdout",
     "output_type": "stream",
     "text": [
      "Requirement already satisfied: numpy in c:\\users\\hp\\appdata\\local\\programs\\python\\python313\\lib\\site-packages (2.2.6)\n",
      "Note: you may need to restart the kernel to use updated packages.\n"
     ]
    },
    {
     "name": "stderr",
     "output_type": "stream",
     "text": [
      "\n",
      "[notice] A new release of pip is available: 24.3.1 -> 25.1.1\n",
      "[notice] To update, run: python.exe -m pip install --upgrade pip\n"
     ]
    }
   ],
   "source": [
    "pip install numpy\n"
   ]
  },
  {
   "cell_type": "code",
   "execution_count": 4,
   "metadata": {},
   "outputs": [
    {
     "name": "stdout",
     "output_type": "stream",
     "text": [
      "Matris: [0 9 5 3 9]\n",
      "Matrisin boyutu (shape): (5,)\n",
      "Yeniden boyutlandırılmış matris: [[0 9 5 3 9]]\n",
      "Boyut sayısı (ndim): 2\n"
     ]
    }
   ],
   "source": [
    "# 1 - numpy kütüphanesini import edin\n",
    "import numpy as np\n",
    "\n",
    "# 2 - 0 ile 10 arasında 5 sayıdan oluşan matris üretin\n",
    "matris = np.random.randint(0, 10, size=5)\n",
    "print(\"Matris:\", matris)\n",
    "\n",
    "# 3 - matris'in boyutunu öğrenin\n",
    "print(\"Matrisin boyutu (shape):\", matris.shape)\n",
    "\n",
    "# 4 - matris'i yeniden boyutlandırın (örneğin 5 elemanı 1x5'lik matrise dönüştürün)\n",
    "matris_reshaped = matris.reshape(1, 5)\n",
    "print(\"Yeniden boyutlandırılmış matris:\", matris_reshaped)\n",
    "\n",
    "# 5 - matris'in boyut sayısını öğrenin (dimension)\n",
    "print(\"Boyut sayısı (ndim):\", matris_reshaped.ndim)\n",
    "\n"
   ]
  },
  {
   "attachments": {},
   "cell_type": "markdown",
   "metadata": {},
   "source": [
    "# Problem 2"
   ]
  },
  {
   "cell_type": "code",
   "execution_count": 6,
   "metadata": {},
   "outputs": [
    {
     "name": "stdout",
     "output_type": "stream",
     "text": [
      "Tek sayılardan oluşan matris: [1 3 5 7 9]\n",
      "Parça 1: [1 3 5]\n",
      "Parça 2: [7 9]\n",
      "Birleştirilmiş matris: [1 3 5 7 9]\n"
     ]
    }
   ],
   "source": [
    "import numpy as np\n",
    "\n",
    "# 1 - 0 ile 10 arasında bulunan tek sayılardan oluşan matris üretin\n",
    "tek_sayilar = np.arange(1, 10, 2)  # [1, 3, 5, 7, 9]\n",
    "print(\"Tek sayılardan oluşan matris:\", tek_sayilar)\n",
    "\n",
    "# 2 - Oluşturduğunuz matrisi parçalayın (örneğin 2 parçaya ayıralım)\n",
    "parca1, parca2 = np.array_split(tek_sayilar, 2)\n",
    "print(\"Parça 1:\", parca1)\n",
    "print(\"Parça 2:\", parca2)\n",
    "\n",
    "# 3 - Parçalanmış matrisleri birleştirin\n",
    "birlesik_matris = np.concatenate((parca1, parca2))\n",
    "print(\"Birleştirilmiş matris:\", birlesik_matris)\n",
    "\n"
   ]
  },
  {
   "attachments": {},
   "cell_type": "markdown",
   "metadata": {},
   "source": [
    "# Problem 3"
   ]
  },
  {
   "cell_type": "code",
   "execution_count": 7,
   "metadata": {},
   "outputs": [
    {
     "name": "stdout",
     "output_type": "stream",
     "text": [
      "Rastgele matris: [43 15  5 85 63 57 59 35 47  7]\n",
      "Boyut (shape): (10,)\n",
      "Boyut sayısı (ndim): 1\n",
      "Eleman sayısı (size): 10\n",
      "Veri tipi (dtype): int64\n",
      "Minimum değer: 5\n",
      "Maksimum değer: 85\n",
      "Ortalama değer: 41.6\n",
      "Standart sapma: 24.900602402351634\n"
     ]
    }
   ],
   "source": [
    "import numpy as np\n",
    "\n",
    "# 1 - 5 ile 100 arasında ikişer ikişer atlayarak rastgele 10 sayıdan oluşan matris üretin\n",
    "sayilar = np.arange(5, 101, 2)  # 5, 7, 9, ..., 99 (tek sayılar)\n",
    "matris = np.random.choice(sayilar, size=10, replace=False)\n",
    "print(\"Rastgele matris:\", matris)\n",
    "\n",
    "# 2 - matris'in özelliklerini inceleyin\n",
    "print(\"Boyut (shape):\", matris.shape)\n",
    "print(\"Boyut sayısı (ndim):\", matris.ndim)\n",
    "print(\"Eleman sayısı (size):\", matris.size)\n",
    "print(\"Veri tipi (dtype):\", matris.dtype)\n",
    "print(\"Minimum değer:\", np.min(matris))\n",
    "print(\"Maksimum değer:\", np.max(matris))\n",
    "print(\"Ortalama değer:\", np.mean(matris))\n",
    "print(\"Standart sapma:\", np.std(matris))\n"
   ]
  },
  {
   "cell_type": "code",
   "execution_count": null,
   "metadata": {},
   "outputs": [],
   "source": []
  }
 ],
 "metadata": {
  "kernelspec": {
   "display_name": "Python 3",
   "language": "python",
   "name": "python3"
  },
  "language_info": {
   "codemirror_mode": {
    "name": "ipython",
    "version": 3
   },
   "file_extension": ".py",
   "mimetype": "text/x-python",
   "name": "python",
   "nbconvert_exporter": "python",
   "pygments_lexer": "ipython3",
   "version": "3.13.2"
  },
  "orig_nbformat": 4,
  "vscode": {
   "interpreter": {
    "hash": "5026d2d6e7aaaaba093def813beadff083d8733e4a511af01735cbabd156995d"
   }
  }
 },
 "nbformat": 4,
 "nbformat_minor": 2
}

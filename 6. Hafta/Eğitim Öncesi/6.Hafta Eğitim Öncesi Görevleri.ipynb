{
 "cells": [
  {
   "cell_type": "markdown",
   "metadata": {
    "id": "4i4T2_mYtDbK"
   },
   "source": [
    "# Problem 1\n",
    "Elinizde bir dikdörtgenin kenarlarını ifade eden sayı çiftlerinin bulunduğu bir liste olsun.\n",
    "\n",
    "     [(3,4),(10,3),(5,6),(1,9)]\n",
    "\n",
    "Şimdi kenar uzunluklarına göre dikdörtgenin alanını hesaplayan bir fonksiyon yazın ve bu listenin her bir elemanına bu fonksiyonu uygulayarak ekrana şöyle bir liste yazdırın.\n",
    "\n",
    "     [12, 30, 30, 9]\n",
    "\n",
    "İpucu : map() fonksiyonunu kullanmaya çalışın."
   ]
  },
  {
   "cell_type": "code",
   "execution_count": 1,
   "metadata": {
    "id": "7sIq-jJwtDbN"
   },
   "outputs": [
    {
     "name": "stdout",
     "output_type": "stream",
     "text": [
      "[12, 30, 30, 9]\n"
     ]
    }
   ],
   "source": [
    "dikdortgenler = [(3, 4), (10, 3), (5, 6), (1, 9)]\n",
    "\n",
    "def alan(katlar):\n",
    "    return katlar[0] * katlar[1]\n",
    "\n",
    "# map ile her dikdörtgenin alanını hesapla ve listeye dönüştür\n",
    "alanlar_listesi = list(map(alan, dikdortgenler))\n",
    "\n",
    "print(alanlar_listesi)\n"
   ]
  },
  {
   "cell_type": "markdown",
   "metadata": {
    "id": "mDPVivNxtDbO"
   },
   "source": [
    "# Problem 2\n",
    "\n",
    "Elinizden her bir elemanı 3'lü bir demet olan bir liste olsun.\n",
    "\n",
    " ```[(3,4,5),(6,8,10),(3,10,7)]```\n",
    "\n",
    "Şimdi kenar uzunluklarına göre bu kenarların bir üçgen oluşturup oluşturmadığını döndüren bir fonksiyon yazın ve sadece üçgen oluşturan kenarları bulunduran listeyi ekrana yazdırın.\n",
    "\n",
    " ```[(3, 4, 5), (6, 8, 10)]```\n",
    "\n",
    "İpucu: filter() fonksiyonunu kullanmaya çalışın."
   ]
  },
  {
   "cell_type": "code",
   "execution_count": 2,
   "metadata": {
    "id": "nf-hi67xtDbP"
   },
   "outputs": [
    {
     "name": "stdout",
     "output_type": "stream",
     "text": [
      "[(3, 4, 5), (6, 8, 10)]\n"
     ]
    }
   ],
   "source": [
    "ucgenler = [(3, 4, 5), (6, 8, 10), (3, 10, 7)]\n",
    "\n",
    "def ucgen_mi(kenarlar):\n",
    "    a, b, c = kenarlar\n",
    "    return (a + b > c) and (a + c > b) and (b + c > a)\n",
    "\n",
    "# filter ile sadece üçgen olanları al\n",
    "gecerli_ucgenler = list(filter(ucgen_mi, ucgenler))\n",
    "\n",
    "print(gecerli_ucgenler)\n"
   ]
  },
  {
   "cell_type": "markdown",
   "metadata": {
    "id": "35ur1Ul_tDbP"
   },
   "source": [
    "# Problem 3\n",
    "Elinizde aşağıdaki gibi bir liste bulunmaktadır.\n",
    "\n",
    "```[1,2,3,4,5,6,7,8,9,10]```\n",
    "\n",
    "Bu listenin içindeki çift sayıların toplamını ekrana yazdıran bir fonksiyon yazın.\n",
    "\n",
    "İpucu: İlk önce filter() fonksiyonu ile çift sayıları ayıklayın. Daha sonra reduce() fonksiyonunu kullanın."
   ]
  },
  {
   "cell_type": "code",
   "execution_count": 3,
   "metadata": {
    "id": "sRPOpzAvtDbP"
   },
   "outputs": [
    {
     "name": "stdout",
     "output_type": "stream",
     "text": [
      "30\n"
     ]
    }
   ],
   "source": [
    "from functools import reduce\n",
    "\n",
    "# Orijinal liste\n",
    "sayilar = [1,2,3,4,5,6,7,8,9,10]\n",
    "\n",
    "# Çift sayıları filtrele\n",
    "cift_sayilar = list(filter(lambda x: x % 2 == 0, sayilar))\n",
    "\n",
    "# Çift sayıların toplamını reduce ile bul\n",
    "toplam = reduce(lambda x, y: x + y, cift_sayilar)\n",
    "\n",
    "print(toplam)\n"
   ]
  },
  {
   "cell_type": "markdown",
   "metadata": {
    "id": "b-NzXcXrtDbQ"
   },
   "source": [
    "# Problem 4\n",
    "\n",
    "Elinizde isimlerin ve soyisimlerin bulunduğu iki tane liste bulunmaktadır.\n",
    "\n",
    "    isimler -----> [\"Kerim\",\"Tarık\",\"Ezgi\",\"Kemal\",\"İlkay\",\"Şükran\",\"Merve\"]\n",
    "\n",
    "    soyisimler -----> [\"Yılmaz\",\"Öztürk\",\"Dağdeviren\",\"Atatürk\",\"Dikmen\",\"Kaya\",\"Polat\"]\n",
    "    \n",
    "Bu isimleri ve soyisimleri sırasıyla eşleştirin ve ekrana alt alta isimleri ve soyisimleri yazdırın.\n",
    "\n",
    "İpucu: zip() fonksiyonunu kullanmaya kullanın."
   ]
  },
  {
   "cell_type": "code",
   "execution_count": 4,
   "metadata": {
    "id": "y_psHJSitDbQ"
   },
   "outputs": [
    {
     "name": "stdout",
     "output_type": "stream",
     "text": [
      "Kerim Yılmaz\n",
      "Tarık Öztürk\n",
      "Ezgi Dağdeviren\n",
      "Kemal Atatürk\n",
      "İlkay Dikmen\n",
      "Şükran Kaya\n",
      "Merve Polat\n"
     ]
    }
   ],
   "source": [
    "isimler = [\"Kerim\", \"Tarık\", \"Ezgi\", \"Kemal\", \"İlkay\", \"Şükran\", \"Merve\"]\n",
    "soyisimler = [\"Yılmaz\", \"Öztürk\", \"Dağdeviren\", \"Atatürk\", \"Dikmen\", \"Kaya\", \"Polat\"]\n",
    "\n",
    "for isim, soyisim in zip(isimler, soyisimler):\n",
    "    print(isim, soyisim)\n"
   ]
  },
  {
   "cell_type": "markdown",
   "metadata": {
    "id": "iyKtrQHmtDbQ"
   },
   "source": [
    "# Problem 5\n",
    "\n",
    "İçerisinde yetgen, core, python2, programı, 2022, basic2 elemanları bulunan bir liste oluşturun.\n",
    "\n",
    "Bu listenin içindeki stringlerden içinde sadece rakam bulunanları ekrana yazdırın. Bunu yaparken try, except bloklarını kullanmayı unutmayın."
   ]
  },
  {
   "cell_type": "code",
   "execution_count": 5,
   "metadata": {
    "id": "7ckliOAftDbR"
   },
   "outputs": [
    {
     "name": "stdout",
     "output_type": "stream",
     "text": [
      "2022\n"
     ]
    }
   ],
   "source": [
    "kelimeler = [\"yetgen\", \"core\", \"python2\", \"programı\", \"2022\", \"basic2\"]\n",
    "\n",
    "for kelime in kelimeler:\n",
    "    try:\n",
    "        sayi = int(kelime)\n",
    "        print(kelime)\n",
    "    except ValueError:\n",
    "        # Eğer hata verirse bu kelime sayı değildir\n",
    "        continue\n"
   ]
  },
  {
   "cell_type": "code",
   "execution_count": null,
   "metadata": {},
   "outputs": [],
   "source": []
  }
 ],
 "metadata": {
  "colab": {
   "provenance": []
  },
  "kernelspec": {
   "display_name": "Python 3",
   "language": "python",
   "name": "python3"
  },
  "language_info": {
   "codemirror_mode": {
    "name": "ipython",
    "version": 3
   },
   "file_extension": ".py",
   "mimetype": "text/x-python",
   "name": "python",
   "nbconvert_exporter": "python",
   "pygments_lexer": "ipython3",
   "version": "3.13.2"
  },
  "orig_nbformat": 4,
  "vscode": {
   "interpreter": {
    "hash": "5026d2d6e7aaaaba093def813beadff083d8733e4a511af01735cbabd156995d"
   }
  }
 },
 "nbformat": 4,
 "nbformat_minor": 0
}

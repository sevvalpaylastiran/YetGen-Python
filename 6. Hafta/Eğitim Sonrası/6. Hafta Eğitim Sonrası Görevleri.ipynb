{
 "cells": [
  {
   "cell_type": "markdown",
   "metadata": {
    "id": "unoTPlV_tJOm"
   },
   "source": [
    "# Problem 1 \n",
    "Bir sayının çift olup olmadığını sorgulayan bir fonksiyon yazın. Bu fonksiyon, eğer sayı çift ise bu değeri dönsün. Ancak sayı tek sayı ise fonksiyon raise ile ValueError hatası oluştursun. Daha sonra, içinde çift ve tek sayılar bulunduran bir liste tanımlayın ve liste üzerinde gezinerek ekrana sadece çift sayıları bastırın."
   ]
  },
  {
   "cell_type": "code",
   "execution_count": null,
   "metadata": {
    "id": "7oyBSeXptJOp"
   },
   "outputs": [
    {
     "name": "stdout",
     "output_type": "stream",
     "text": [
      "10\n",
      "7 bir çift sayı değildir.\n",
      "4\n",
      "9 bir çift sayı değildir.\n",
      "16\n",
      "3 bir çift sayı değildir.\n",
      "8\n"
     ]
    }
   ],
   "source": [
    "def cift_mi(sayi):\n",
    "    if sayi % 2 == 0:\n",
    "        return sayi\n",
    "    else:\n",
    "        raise ValueError(f\"{sayi} bir çift sayı değildir.\")\n",
    "\n",
    "sayilar = [10, 7, 4, 9, 16, 3, 8]\n",
    "\n",
    "for sayi in sayilar:\n",
    "    try:\n",
    "        print(cift_mi(sayi))\n",
    "    except ValueError as e:\n",
    "       \n",
    "        print(e)\n"
   ]
  },
  {
   "cell_type": "markdown",
   "metadata": {
    "id": "CdfzJ2A9tJOq"
   },
   "source": [
    "# Problem 2\n",
    "\n",
    "2 YetGen lideri ders sırasında canları sıkılınca oyun oynamak isterler. Ancak hangi oyunu oynayacaklarına karar veremezler ve son olarak kendi oyunlarını yazmaya karar verirler.\n",
    "Liderlerimizin kodlamak istediği oyun kuralları şöyledir:\n",
    "- Oyunda random olarak 0 ile 100 arasında bir sayı tutulur.\n",
    "- Kullanıcıdan bilgisayarın tuttuğu sayıyı tahmin etmesi için bir sayı girmesini istenir.\n",
    "- Eğer kullanıcının girdiği sayı bulunması gereken sayıdan küçükse  tahmininizi yükseltin, büyükse tahmininizi düşürün şeklinde bir çıktı verilir.\n",
    "- Oyunun gerçeğe yakın olması için bilgisayarın çalışmasını simgelemek için 1 saniye bekleme süresi tanınır.\n",
    "- Kullanıcı 5 hakkı vardır. 5 hakkı da kullanıp sayıyı bulamazsa oyunu kaybeder."
   ]
  },
  {
   "cell_type": "code",
   "execution_count": 2,
   "metadata": {
    "id": "A1VEETgCtJOr"
   },
   "outputs": [
    {
     "name": "stdout",
     "output_type": "stream",
     "text": [
      "🎮 Sayı Tahmin Oyununa Hoş Geldiniz!\n",
      "Bilgisayar düşünüyor...\n",
      "🔼 Tahmininizi yükseltin.\n",
      "Bilgisayar düşünüyor...\n",
      "🔼 Tahmininizi yükseltin.\n",
      "Bilgisayar düşünüyor...\n",
      "🔼 Tahmininizi yükseltin.\n",
      "Bilgisayar düşünüyor...\n",
      "🔼 Tahmininizi yükseltin.\n",
      "Bilgisayar düşünüyor...\n",
      "🔽 Tahmininizi düşürün.\n",
      "\n",
      "😞 Maalesef tahmin hakkınız bitti. Doğru sayı 29 idi.\n"
     ]
    }
   ],
   "source": [
    "import random\n",
    "import time\n",
    "\n",
    "def sayi_tahmin_oyunu():\n",
    "    print(\"🎮 Sayı Tahmin Oyununa Hoş Geldiniz!\")\n",
    "    gizli_sayi = random.randint(0, 100)\n",
    "    tahmin_hakki = 5\n",
    "\n",
    "    while tahmin_hakki > 0:\n",
    "        try:\n",
    "            tahmin = int(input(f\"\\nTahmininizi girin (Kalan hakkınız: {tahmin_hakki}): \"))\n",
    "        except ValueError:\n",
    "            print(\"❗ Lütfen geçerli bir sayı girin.\")\n",
    "            continue\n",
    "\n",
    "        print(\"Bilgisayar düşünüyor...\")\n",
    "        time.sleep(1)  # 1 saniye bekleme\n",
    "\n",
    "        if tahmin == gizli_sayi:\n",
    "            print(\"🎉 Tebrikler! Doğru tahmin ettiniz. 🎯\")\n",
    "            break\n",
    "        elif tahmin < gizli_sayi:\n",
    "            print(\"🔼 Tahmininizi yükseltin.\")\n",
    "        else:\n",
    "            print(\"🔽 Tahmininizi düşürün.\")\n",
    "\n",
    "        tahmin_hakki -= 1\n",
    "\n",
    "    if tahmin_hakki == 0:\n",
    "        print(f\"\\n😞 Maalesef tahmin hakkınız bitti. Doğru sayı {gizli_sayi} idi.\")\n",
    "\n",
    "# Oyunu başlat\n",
    "sayi_tahmin_oyunu()\n"
   ]
  },
  {
   "cell_type": "code",
   "execution_count": null,
   "metadata": {},
   "outputs": [],
   "source": []
  }
 ],
 "metadata": {
  "colab": {
   "provenance": []
  },
  "kernelspec": {
   "display_name": "Python 3",
   "language": "python",
   "name": "python3"
  },
  "language_info": {
   "codemirror_mode": {
    "name": "ipython",
    "version": 3
   },
   "file_extension": ".py",
   "mimetype": "text/x-python",
   "name": "python",
   "nbconvert_exporter": "python",
   "pygments_lexer": "ipython3",
   "version": "3.13.2"
  },
  "orig_nbformat": 4,
  "vscode": {
   "interpreter": {
    "hash": "5026d2d6e7aaaaba093def813beadff083d8733e4a511af01735cbabd156995d"
   }
  }
 },
 "nbformat": 4,
 "nbformat_minor": 0
}

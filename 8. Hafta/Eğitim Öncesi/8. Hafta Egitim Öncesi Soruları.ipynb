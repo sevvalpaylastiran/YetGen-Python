{
 "cells": [
  {
   "cell_type": "markdown",
   "metadata": {
    "id": "Pzh44PAE5H61"
   },
   "source": [
    "# Problem 1 \n",
    "Kullanıcıdan aldığı ürün bilgisini (ad, fiyat) urunler.txt dosyasına kayıt eden fonksiyonu yazınız."
   ]
  },
  {
   "cell_type": "code",
   "execution_count": 1,
   "metadata": {
    "id": "uKw3Wap95H64"
   },
   "outputs": [
    {
     "name": "stdout",
     "output_type": "stream",
     "text": [
      "kalem adlı ürün başarıyla kaydedildi.\n"
     ]
    }
   ],
   "source": [
    "def urun_kaydet():\n",
    "    \n",
    "    urun_ad = input(\"Ürün adını girin: \")\n",
    "    urun_fiyat = input(\"Ürün fiyatını girin: \")\n",
    "    \n",
    "    try:\n",
    "        urun_fiyat = float(urun_fiyat)\n",
    "    except ValueError:\n",
    "        print(\"Geçersiz fiyat girişi. Lütfen sayısal bir değer girin.\")\n",
    "        return\n",
    "\n",
    "    with open(\"urunler.txt\", \"a\") as file:\n",
    "        file.write(f\"{urun_ad},{urun_fiyat}\\n\")\n",
    "    \n",
    "    print(f\"{urun_ad} adlı ürün başarıyla kaydedildi.\")\n",
    "\n",
    "\n",
    "urun_kaydet()\n"
   ]
  },
  {
   "cell_type": "markdown",
   "metadata": {
    "id": "Lw7xy19D5H66"
   },
   "source": [
    "# Problem 2\n",
    "1.problemde oluşturulan text dosyası içerisinde kullanıcıdan alacağımız eski kelime isimli değişkene atadığımız \n",
    "ve değiştirilmesini istediğimiz kelimemizi yerini alıcak olan yeni kelime isimli değişkene atayın. Belirlenen kelimeleri text dosyasında değiştiren fonksiyonu yazınız."
   ]
  },
  {
   "cell_type": "code",
   "execution_count": 2,
   "metadata": {
    "id": "jDlym3ko5H66"
   },
   "outputs": [
    {
     "name": "stdout",
     "output_type": "stream",
     "text": [
      "'kalem' kelimesi başarıyla 'silgi' olarak değiştirildi.\n"
     ]
    }
   ],
   "source": [
    "def kelime_degistir():\n",
    "    dosya_adi = \"urunler.txt\"\n",
    "    \n",
    "    eski_kelime = input(\"Değiştirmek istediğiniz kelimeyi girin: \")\n",
    "    yeni_kelime = input(\"Yeni kelimeyi girin: \")\n",
    "    \n",
    "    try:\n",
    "        with open(dosya_adi, \"r\") as file:\n",
    "            icerik = file.read()\n",
    "\n",
    "        yeni_icerik = icerik.replace(eski_kelime, yeni_kelime)\n",
    "\n",
    "        with open(dosya_adi, \"w\") as file:\n",
    "            file.write(yeni_icerik)\n",
    "\n",
    "        print(f\"'{eski_kelime}' kelimesi başarıyla '{yeni_kelime}' olarak değiştirildi.\")\n",
    "    \n",
    "    except FileNotFoundError:\n",
    "        print(f\"{dosya_adi} dosyası bulunamadı.\")\n",
    "\n",
    "kelime_degistir()\n"
   ]
  },
  {
   "cell_type": "markdown",
   "metadata": {
    "id": "3aSYk4FF5H67"
   },
   "source": [
    "# Problem 3\n",
    "Vehicle sınıfının tüm değişkenlerini ve yöntemlerini devralacak bir alt sınıf olarak Bus sınıfı oluşturunuz.\n",
    "\n",
    "\n",
    "\n",
    "```\n",
    "Output\n",
    "> Name: School Volvo Speed: 180 Mileage: 12\n",
    "```\n"
   ]
  },
  {
   "cell_type": "code",
   "execution_count": 3,
   "metadata": {
    "id": "PwCI6Xkb5H68"
   },
   "outputs": [
    {
     "name": "stdout",
     "output_type": "stream",
     "text": [
      "Name: School Volvo Speed: 180 Mileage: 12\n"
     ]
    }
   ],
   "source": [
    "class Vehicle:\n",
    "    def __init__(self, name, speed, mileage):\n",
    "        self.name = name\n",
    "        self.speed = speed\n",
    "        self.mileage = mileage\n",
    "\n",
    "    def display_info(self):\n",
    "        print(f\"Name: {self.name} Speed: {self.speed} Mileage: {self.mileage}\")\n",
    "\n",
    "class Bus(Vehicle):\n",
    "    pass  \n",
    "\n",
    "my_bus = Bus(\"School Volvo\", 180, 12)\n",
    "\n",
    "my_bus.display_info()\n"
   ]
  },
  {
   "cell_type": "code",
   "execution_count": null,
   "metadata": {},
   "outputs": [],
   "source": []
  }
 ],
 "metadata": {
  "colab": {
   "provenance": []
  },
  "kernelspec": {
   "display_name": "Python 3",
   "language": "python",
   "name": "python3"
  },
  "language_info": {
   "codemirror_mode": {
    "name": "ipython",
    "version": 3
   },
   "file_extension": ".py",
   "mimetype": "text/x-python",
   "name": "python",
   "nbconvert_exporter": "python",
   "pygments_lexer": "ipython3",
   "version": "3.13.2"
  },
  "orig_nbformat": 4,
  "vscode": {
   "interpreter": {
    "hash": "5026d2d6e7aaaaba093def813beadff083d8733e4a511af01735cbabd156995d"
   }
  }
 },
 "nbformat": 4,
 "nbformat_minor": 0
}
